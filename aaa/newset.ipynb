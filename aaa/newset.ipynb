{
 "cells": [
  {
   "cell_type": "code",
   "execution_count": 1,
   "metadata": {},
   "outputs": [],
   "source": [
    "import web3\n",
    "import json\n",
    "import array\n",
    "import math\n",
    "import random\n",
    "import time\n",
    "import csv\n",
    "import numpy as np\n",
    "\n",
    "from web3 import Web3, IPCProvider, HTTPProvider"
   ]
  },
  {
   "cell_type": "code",
   "execution_count": 2,
   "metadata": {},
   "outputs": [
    {
     "name": "stdout",
     "output_type": "stream",
     "text": [
      "<web3.main.Web3 object at 0x000000000497CF28>\n"
     ]
    }
   ],
   "source": [
    "web3 = Web3(HTTPProvider(\"HTTP://127.0.0.1:7545\", request_kwargs = {'timeout':600}))\n",
    "print(web3)"
   ]
  },
  {
   "cell_type": "code",
   "execution_count": 3,
   "metadata": {},
   "outputs": [
    {
     "data": {
      "text/plain": [
       "99992541950000000000"
      ]
     },
     "execution_count": 3,
     "metadata": {},
     "output_type": "execute_result"
    }
   ],
   "source": [
    "web3.eth.getBalance(web3.eth.accounts[0])"
   ]
  },
  {
   "cell_type": "code",
   "execution_count": 4,
   "metadata": {},
   "outputs": [
    {
     "data": {
      "text/plain": [
       "True"
      ]
     },
     "execution_count": 4,
     "metadata": {},
     "output_type": "execute_result"
    }
   ],
   "source": [
    "web3.personal.unlockAccount(web3.eth.accounts[0],'gogogo')"
   ]
  },
  {
   "cell_type": "code",
   "execution_count": 5,
   "metadata": {},
   "outputs": [
    {
     "data": {
      "text/plain": [
       "'0xC56fC154A17f382B258Ca73Cd976A4c87593457C'"
      ]
     },
     "execution_count": 5,
     "metadata": {},
     "output_type": "execute_result"
    }
   ],
   "source": [
    "coinbase = web3.eth.coinbase\n",
    "coinbase"
   ]
  },
  {
   "cell_type": "code",
   "execution_count": 11,
   "metadata": {},
   "outputs": [
    {
     "data": {
      "text/plain": [
       "<web3.utils.datatypes.Contract at 0x799c5f8>"
      ]
     },
     "execution_count": 11,
     "metadata": {},
     "output_type": "execute_result"
    }
   ],
   "source": [
    "contract_address = web3.toChecksumAddress(0x9bd91c9801bfa068a0a242e98669cf37ad40b2ab)\n",
    "abi_str = '[{\"constant\":false,\"inputs\":[],\"name\":\"calculateNeeds\",\"outputs\":[],\"payable\":false,\"stateMutability\":\"nonpayable\",\"type\":\"function\"},{\"constant\":false,\"inputs\":[],\"name\":\"Checkoffers1\",\"outputs\":[],\"payable\":false,\"stateMutability\":\"nonpayable\",\"type\":\"function\"},{\"constant\":false,\"inputs\":[],\"name\":\"Checkoffers2\",\"outputs\":[],\"payable\":false,\"stateMutability\":\"nonpayable\",\"type\":\"function\"},{\"constant\":false,\"inputs\":[],\"name\":\"Checkoffers3\",\"outputs\":[],\"payable\":false,\"stateMutability\":\"nonpayable\",\"type\":\"function\"},{\"constant\":false,\"inputs\":[],\"name\":\"Confirmation\",\"outputs\":[],\"payable\":false,\"stateMutability\":\"nonpayable\",\"type\":\"function\"},{\"constant\":false,\"inputs\":[],\"name\":\"FindCheapestoffer\",\"outputs\":[],\"payable\":false,\"stateMutability\":\"nonpayable\",\"type\":\"function\"},{\"constant\":false,\"inputs\":[{\"name\":\"_EICcode\",\"type\":\"string\"},{\"name\":\"_capacity\",\"type\":\"uint256\"}],\"name\":\"Register\",\"outputs\":[],\"payable\":false,\"stateMutability\":\"nonpayable\",\"type\":\"function\"},{\"constant\":false,\"inputs\":[],\"name\":\"RemoveOffers\",\"outputs\":[],\"payable\":false,\"stateMutability\":\"nonpayable\",\"type\":\"function\"},{\"constant\":false,\"inputs\":[{\"name\":\"_timepoint\",\"type\":\"uint8\"},{\"name\":\"_NegPower\",\"type\":\"uint16\"},{\"name\":\"_duration\",\"type\":\"uint8\"}],\"name\":\"SetFlexdemand\",\"outputs\":[],\"payable\":false,\"stateMutability\":\"nonpayable\",\"type\":\"function\"},{\"constant\":false,\"inputs\":[{\"name\":\"_timepoint\",\"type\":\"uint8\"},{\"name\":\"_NegPower\",\"type\":\"uint16\"},{\"name\":\"_duration\",\"type\":\"uint8\"}],\"name\":\"Setflexdemands\",\"outputs\":[],\"payable\":false,\"stateMutability\":\"nonpayable\",\"type\":\"function\"},{\"constant\":false,\"inputs\":[{\"name\":\"_timepoint\",\"type\":\"uint8\"},{\"name\":\"_scheduledPower\",\"type\":\"uint16\"},{\"name\":\"_NegPower\",\"type\":\"uint16\"},{\"name\":\"_PosPower\",\"type\":\"uint16\"},{\"name\":\"_NegEnergy\",\"type\":\"uint16\"},{\"name\":\"_PosEnergy\",\"type\":\"uint16\"},{\"name\":\"_NegPrice\",\"type\":\"uint16\"},{\"name\":\"_PosPrice\",\"type\":\"uint16\"}],\"name\":\"SetFlexoffer\",\"outputs\":[],\"payable\":false,\"stateMutability\":\"nonpayable\",\"type\":\"function\"},{\"constant\":false,\"inputs\":[{\"name\":\"_timepoint\",\"type\":\"uint8\"},{\"name\":\"_scheduledPower\",\"type\":\"uint16\"},{\"name\":\"_NegPower\",\"type\":\"uint16\"},{\"name\":\"_NegEnergy\",\"type\":\"uint16\"},{\"name\":\"_NegPrice\",\"type\":\"uint16\"}],\"name\":\"SetNegoffers\",\"outputs\":[],\"payable\":false,\"stateMutability\":\"nonpayable\",\"type\":\"function\"},{\"constant\":false,\"inputs\":[{\"name\":\"_timepoint\",\"type\":\"uint8\"},{\"name\":\"_scheduledPower\",\"type\":\"uint16\"},{\"name\":\"_NegPower\",\"type\":\"uint16\"},{\"name\":\"_NegEnergy\",\"type\":\"uint16\"},{\"name\":\"_NegPrice\",\"type\":\"uint16\"}],\"name\":\"SetNegoffers1\",\"outputs\":[],\"payable\":false,\"stateMutability\":\"nonpayable\",\"type\":\"function\"},{\"constant\":false,\"inputs\":[{\"name\":\"_timepoint\",\"type\":\"uint8\"},{\"name\":\"_scheduledPower\",\"type\":\"uint16\"},{\"name\":\"_NegPower\",\"type\":\"uint16\"},{\"name\":\"_NegEnergy\",\"type\":\"uint16\"},{\"name\":\"_NegPrice\",\"type\":\"uint16\"}],\"name\":\"SetNegoffers2\",\"outputs\":[],\"payable\":false,\"stateMutability\":\"nonpayable\",\"type\":\"function\"},{\"constant\":false,\"inputs\":[{\"name\":\"_timepoint\",\"type\":\"uint8\"},{\"name\":\"_scheduledPower\",\"type\":\"uint16\"},{\"name\":\"_NegPower\",\"type\":\"uint16\"},{\"name\":\"_NegEnergy\",\"type\":\"uint16\"},{\"name\":\"_NegPrice\",\"type\":\"uint16\"}],\"name\":\"SetNegoffers3\",\"outputs\":[],\"payable\":false,\"stateMutability\":\"nonpayable\",\"type\":\"function\"},{\"constant\":false,\"inputs\":[{\"name\":\"_timepoint\",\"type\":\"uint8\"},{\"name\":\"_PosPower\",\"type\":\"uint16\"},{\"name\":\"_PosEnergy\",\"type\":\"uint16\"},{\"name\":\"_PosPrice\",\"type\":\"uint16\"}],\"name\":\"SetPosoffers\",\"outputs\":[],\"payable\":false,\"stateMutability\":\"nonpayable\",\"type\":\"function\"},{\"constant\":false,\"inputs\":[{\"name\":\"_timepoint\",\"type\":\"uint8\"},{\"name\":\"_PosPower\",\"type\":\"uint16\"},{\"name\":\"_PosEnergy\",\"type\":\"uint16\"},{\"name\":\"_PosPrice\",\"type\":\"uint16\"}],\"name\":\"SetPosoffers1\",\"outputs\":[],\"payable\":false,\"stateMutability\":\"nonpayable\",\"type\":\"function\"},{\"constant\":false,\"inputs\":[{\"name\":\"_timepoint\",\"type\":\"uint8\"},{\"name\":\"_PosPower\",\"type\":\"uint16\"},{\"name\":\"_PosEnergy\",\"type\":\"uint16\"},{\"name\":\"_PosPrice\",\"type\":\"uint16\"}],\"name\":\"SetPosoffers2\",\"outputs\":[],\"payable\":false,\"stateMutability\":\"nonpayable\",\"type\":\"function\"},{\"constant\":false,\"inputs\":[{\"name\":\"_timepoint\",\"type\":\"uint8\"},{\"name\":\"_PosPower\",\"type\":\"uint16\"},{\"name\":\"_PosEnergy\",\"type\":\"uint16\"},{\"name\":\"_PosPrice\",\"type\":\"uint16\"}],\"name\":\"SetPosoffers3\",\"outputs\":[],\"payable\":false,\"stateMutability\":\"nonpayable\",\"type\":\"function\"},{\"constant\":false,\"inputs\":[{\"name\":\"_timepoint\",\"type\":\"uint8\"}],\"name\":\"SetZerooffers\",\"outputs\":[],\"payable\":false,\"stateMutability\":\"nonpayable\",\"type\":\"function\"},{\"constant\":false,\"inputs\":[{\"name\":\"_timepoint\",\"type\":\"uint8\"}],\"name\":\"SetZerooffers1\",\"outputs\":[],\"payable\":false,\"stateMutability\":\"nonpayable\",\"type\":\"function\"},{\"constant\":false,\"inputs\":[{\"name\":\"_timepoint\",\"type\":\"uint8\"}],\"name\":\"SetZerooffers2\",\"outputs\":[],\"payable\":false,\"stateMutability\":\"nonpayable\",\"type\":\"function\"},{\"constant\":false,\"inputs\":[{\"name\":\"_timepoint\",\"type\":\"uint8\"}],\"name\":\"SetZerooffers3\",\"outputs\":[],\"payable\":false,\"stateMutability\":\"nonpayable\",\"type\":\"function\"},{\"constant\":false,\"inputs\":[],\"name\":\"Totalprice1\",\"outputs\":[],\"payable\":false,\"stateMutability\":\"nonpayable\",\"type\":\"function\"},{\"constant\":false,\"inputs\":[],\"name\":\"Totalprice2\",\"outputs\":[],\"payable\":false,\"stateMutability\":\"nonpayable\",\"type\":\"function\"},{\"constant\":false,\"inputs\":[],\"name\":\"Totalprice3\",\"outputs\":[],\"payable\":false,\"stateMutability\":\"nonpayable\",\"type\":\"function\"},{\"constant\":false,\"inputs\":[{\"name\":\"newOwner\",\"type\":\"address\"}],\"name\":\"transferOwnership\",\"outputs\":[],\"payable\":false,\"stateMutability\":\"nonpayable\",\"type\":\"function\"},{\"anonymous\":false,\"inputs\":[{\"indexed\":false,\"name\":\"FlexunitId\",\"type\":\"uint256\"},{\"indexed\":false,\"name\":\"EICcode\",\"type\":\"string\"},{\"indexed\":false,\"name\":\"capacity\",\"type\":\"uint256\"}],\"name\":\"NewFlexunit\",\"type\":\"event\"},{\"anonymous\":false,\"inputs\":[{\"indexed\":true,\"name\":\"previousOwner\",\"type\":\"address\"},{\"indexed\":true,\"name\":\"newOwner\",\"type\":\"address\"}],\"name\":\"OwnershipTransferred\",\"type\":\"event\"},{\"constant\":true,\"inputs\":[{\"name\":\"\",\"type\":\"uint256\"}],\"name\":\"Flexunits\",\"outputs\":[{\"name\":\"EICcode\",\"type\":\"string\"},{\"name\":\"capacity\",\"type\":\"uint256\"}],\"payable\":false,\"stateMutability\":\"view\",\"type\":\"function\"},{\"constant\":true,\"inputs\":[{\"name\":\"\",\"type\":\"uint256\"}],\"name\":\"FlexunittoOwner\",\"outputs\":[{\"name\":\"\",\"type\":\"address\"}],\"payable\":false,\"stateMutability\":\"view\",\"type\":\"function\"},{\"constant\":true,\"inputs\":[],\"name\":\"owner\",\"outputs\":[{\"name\":\"\",\"type\":\"address\"}],\"payable\":false,\"stateMutability\":\"view\",\"type\":\"function\"},{\"constant\":true,\"inputs\":[{\"name\":\"i\",\"type\":\"uint16\"}],\"name\":\"Show\",\"outputs\":[{\"name\":\"\",\"type\":\"uint16\"},{\"name\":\"\",\"type\":\"uint16\"},{\"name\":\"\",\"type\":\"uint16\"},{\"name\":\"\",\"type\":\"uint16\"},{\"name\":\"\",\"type\":\"uint16\"},{\"name\":\"\",\"type\":\"uint16\"},{\"name\":\"\",\"type\":\"uint16\"}],\"payable\":false,\"stateMutability\":\"view\",\"type\":\"function\"}]'\n",
    "contract_abi = json.loads(abi_str)\n",
    "contract = web3.eth.contract(abi=contract_abi, address=contract_address)\n",
    "contract"
   ]
  },
  {
   "cell_type": "code",
   "execution_count": 7,
   "metadata": {},
   "outputs": [],
   "source": [
    "def csv_import(filename):\n",
    "\n",
    "    columns = []\n",
    "    with open(filename, 'rU') as f:\n",
    "        reader = csv.reader(f, delimiter=';')\n",
    "        for row in reader:\n",
    "            if columns:\n",
    "                for i, value in enumerate(row):\n",
    "                    columns[i].append(value)\n",
    "            else:\n",
    "                # first row\n",
    "                columns = [[value] for value in row]\n",
    "    # you now have a column-major 2D array of your file.\n",
    "    as_dict = {c[0]: c[1:] for c in columns}\n",
    "    return as_dict"
   ]
  },
  {
   "cell_type": "code",
   "execution_count": 8,
   "metadata": {},
   "outputs": [
    {
     "name": "stderr",
     "output_type": "stream",
     "text": [
      "E:\\it\\envs\\py3\\lib\\site-packages\\ipykernel_launcher.py:4: DeprecationWarning: 'U' mode is deprecated\n",
      "  after removing the cwd from sys.path.\n"
     ]
    }
   ],
   "source": [
    "data = csv_import('Flexoffer.csv')\n"
   ]
  },
  {
   "cell_type": "code",
   "execution_count": 9,
   "metadata": {},
   "outputs": [
    {
     "data": {
      "text/plain": [
       "20000"
      ]
     },
     "execution_count": 9,
     "metadata": {},
     "output_type": "execute_result"
    }
   ],
   "source": [
    "int(data['Leistung_Plan'][53])"
   ]
  },
  {
   "cell_type": "code",
   "execution_count": 12,
   "metadata": {},
   "outputs": [
    {
     "ename": "ValidationError",
     "evalue": "\nCould not identify the intended function with name `set1`, positional argument(s) of type `(<class 'int'>, <class 'int'>)` and keyword argument(s) of type `{}`.\nFound 0 function(s) with the name `set1`: []\nFunction invocation failed due to improper number of arguments.",
     "output_type": "error",
     "traceback": [
      "\u001b[1;31m---------------------------------------------------------------------------\u001b[0m",
      "\u001b[1;31mValidationError\u001b[0m                           Traceback (most recent call last)",
      "\u001b[1;32m<ipython-input-12-b8efe02bc76c>\u001b[0m in \u001b[0;36m<module>\u001b[1;34m\u001b[0m\n\u001b[1;32m----> 1\u001b[1;33m \u001b[0mcontract\u001b[0m\u001b[1;33m.\u001b[0m\u001b[0mtransact\u001b[0m\u001b[1;33m(\u001b[0m\u001b[1;33m{\u001b[0m\u001b[1;34m'from'\u001b[0m\u001b[1;33m:\u001b[0m\u001b[0mweb3\u001b[0m\u001b[1;33m.\u001b[0m\u001b[0meth\u001b[0m\u001b[1;33m.\u001b[0m\u001b[0maccounts\u001b[0m\u001b[1;33m[\u001b[0m\u001b[1;36m0\u001b[0m\u001b[1;33m]\u001b[0m\u001b[1;33m}\u001b[0m\u001b[1;33m)\u001b[0m\u001b[1;33m.\u001b[0m\u001b[0mset1\u001b[0m\u001b[1;33m(\u001b[0m\u001b[1;36m53\u001b[0m\u001b[1;33m,\u001b[0m\u001b[1;36m20000\u001b[0m\u001b[1;33m)\u001b[0m\u001b[1;33m\u001b[0m\u001b[1;33m\u001b[0m\u001b[0m\n\u001b[0m",
      "\u001b[1;32mE:\\it\\envs\\py3\\lib\\site-packages\\web3\\contract.py\u001b[0m in \u001b[0;36mtransact_with_contract_function\u001b[1;34m(address, web3, function_name, transaction, contract_abi, fn_abi, *args, **kwargs)\u001b[0m\n\u001b[0;32m   1449\u001b[0m         \u001b[0mfn_abi\u001b[0m\u001b[1;33m=\u001b[0m\u001b[0mfn_abi\u001b[0m\u001b[1;33m,\u001b[0m\u001b[1;33m\u001b[0m\u001b[1;33m\u001b[0m\u001b[0m\n\u001b[0;32m   1450\u001b[0m         \u001b[0mfn_args\u001b[0m\u001b[1;33m=\u001b[0m\u001b[0margs\u001b[0m\u001b[1;33m,\u001b[0m\u001b[1;33m\u001b[0m\u001b[1;33m\u001b[0m\u001b[0m\n\u001b[1;32m-> 1451\u001b[1;33m         \u001b[0mfn_kwargs\u001b[0m\u001b[1;33m=\u001b[0m\u001b[0mkwargs\u001b[0m\u001b[1;33m,\u001b[0m\u001b[1;33m\u001b[0m\u001b[1;33m\u001b[0m\u001b[0m\n\u001b[0m\u001b[0;32m   1452\u001b[0m     )\n\u001b[0;32m   1453\u001b[0m \u001b[1;33m\u001b[0m\u001b[0m\n",
      "\u001b[1;32mE:\\it\\envs\\py3\\lib\\site-packages\\web3\\utils\\contracts.py\u001b[0m in \u001b[0;36mprepare_transaction\u001b[1;34m(address, web3, fn_identifier, contract_abi, fn_abi, transaction, fn_args, fn_kwargs)\u001b[0m\n\u001b[0;32m    184\u001b[0m     \"\"\"\n\u001b[0;32m    185\u001b[0m     \u001b[1;32mif\u001b[0m \u001b[0mfn_abi\u001b[0m \u001b[1;32mis\u001b[0m \u001b[1;32mNone\u001b[0m\u001b[1;33m:\u001b[0m\u001b[1;33m\u001b[0m\u001b[1;33m\u001b[0m\u001b[0m\n\u001b[1;32m--> 186\u001b[1;33m         \u001b[0mfn_abi\u001b[0m \u001b[1;33m=\u001b[0m \u001b[0mfind_matching_fn_abi\u001b[0m\u001b[1;33m(\u001b[0m\u001b[0mcontract_abi\u001b[0m\u001b[1;33m,\u001b[0m \u001b[0mfn_identifier\u001b[0m\u001b[1;33m,\u001b[0m \u001b[0mfn_args\u001b[0m\u001b[1;33m,\u001b[0m \u001b[0mfn_kwargs\u001b[0m\u001b[1;33m)\u001b[0m\u001b[1;33m\u001b[0m\u001b[1;33m\u001b[0m\u001b[0m\n\u001b[0m\u001b[0;32m    187\u001b[0m \u001b[1;33m\u001b[0m\u001b[0m\n\u001b[0;32m    188\u001b[0m     \u001b[0mvalidate_payable\u001b[0m\u001b[1;33m(\u001b[0m\u001b[0mtransaction\u001b[0m\u001b[1;33m,\u001b[0m \u001b[0mfn_abi\u001b[0m\u001b[1;33m)\u001b[0m\u001b[1;33m\u001b[0m\u001b[1;33m\u001b[0m\u001b[0m\n",
      "\u001b[1;32mE:\\it\\envs\\py3\\lib\\site-packages\\web3\\utils\\contracts.py\u001b[0m in \u001b[0;36mfind_matching_fn_abi\u001b[1;34m(abi, fn_identifier, args, kwargs)\u001b[0m\n\u001b[0;32m    126\u001b[0m             \u001b[0mdiagnosis\u001b[0m\u001b[1;33m=\u001b[0m\u001b[0mdiagnosis\u001b[0m\u001b[1;33m,\u001b[0m\u001b[1;33m\u001b[0m\u001b[1;33m\u001b[0m\u001b[0m\n\u001b[0;32m    127\u001b[0m         )\n\u001b[1;32m--> 128\u001b[1;33m         \u001b[1;32mraise\u001b[0m \u001b[0mValidationError\u001b[0m\u001b[1;33m(\u001b[0m\u001b[0mmessage\u001b[0m\u001b[1;33m)\u001b[0m\u001b[1;33m\u001b[0m\u001b[1;33m\u001b[0m\u001b[0m\n\u001b[0m\u001b[0;32m    129\u001b[0m \u001b[1;33m\u001b[0m\u001b[0m\n\u001b[0;32m    130\u001b[0m \u001b[1;33m\u001b[0m\u001b[0m\n",
      "\u001b[1;31mValidationError\u001b[0m: \nCould not identify the intended function with name `set1`, positional argument(s) of type `(<class 'int'>, <class 'int'>)` and keyword argument(s) of type `{}`.\nFound 0 function(s) with the name `set1`: []\nFunction invocation failed due to improper number of arguments."
     ]
    }
   ],
   "source": [
    "contract.transact({'from':web3.eth.accounts[0]}).set1(53,20000)"
   ]
  },
  {
   "cell_type": "code",
   "execution_count": null,
   "metadata": {},
   "outputs": [],
   "source": []
  },
  {
   "cell_type": "code",
   "execution_count": 31,
   "metadata": {},
   "outputs": [],
   "source": [
    "tx1_hashes = [None]*96\n",
    "tx2_hashes = [None]*96\n",
    "tx3_hashes = [None]*96\n",
    "tx4_hashes = [None]*96\n",
    "tx5_hashes = [None]*96\n",
    "tx6_hashes = [None]*96\n",
    "tx7_hashes = [None]*96"
   ]
  },
  {
   "cell_type": "code",
   "execution_count": 32,
   "metadata": {},
   "outputs": [],
   "source": [
    "for i in range(0,95):\n",
    "    if int(data['Leistung_Plan'][i]) != 0:\n",
    "       tx1_hash = contract.transact({'from':web3.eth.accounts[0]}).set1(i,int(data['Leistung_Plan'][i]))\n",
    "       tx1_hashes[i] = tx1_hash.hex()\n",
    "        \n",
    "    if int(data['Leistung-'][i]) != 0:\n",
    "        tx2_hash = contract.transact({'from':web3.eth.accounts[0]}).set2(i,int(data['Leistung-'][i]))\n",
    "        tx2_hashes[i] = tx2_hash.hex()\n",
    "        \n",
    "    if int(data['Leistung+'][i]) != 0:\n",
    "        tx3_hash = contract.transact({'from':web3.eth.accounts[0]}).set3(i,int(data['Leistung+'][i]))\n",
    "        tx3_hashes[i] = tx3_hash.hex()\n",
    "        \n",
    "    if int(data['Energie-'][i]) != 0:\n",
    "        tx4_hash = contract.transact({'from':web3.eth.accounts[0]}).set4(i,int(data['Energie-'][i]))\n",
    "        tx4_hashes[i] = tx4_hash.hex()\n",
    "        \n",
    "    if int(data['Energie+'][i]) != 0:\n",
    "        tx5_hash = contract.transact({'from':web3.eth.accounts[0]}).set5(i,int(data['Energie+'][i]))\n",
    "        tx5_hashes[i] = tx5_hash.hex()\n",
    "        \n",
    "    if int(data['Preis-'][i]) != 0:\n",
    "        tx6_hash = contract.transact({'from':web3.eth.accounts[0]}).set6(i,int(data['Preis-'][i]))\n",
    "        tx6_hashes[i] = tx6_hash.hex()\n",
    "        \n",
    "    if int(data['Preis+'][i]) != 0:\n",
    "        tx7_hash = contract.transact({'from':web3.eth.accounts[0]}).set7(i,int(data['Preis+'][i]))\n",
    "        tx7_hashes[i] = tx7_hash.hex()\n",
    "    \n",
    "    "
   ]
  },
  {
   "cell_type": "code",
   "execution_count": 48,
   "metadata": {},
   "outputs": [],
   "source": [
    "#tx1_hashes\n",
    "#receipt1 = web3.eth.waitForTransactionReceipt(tx1_hashes[1])"
   ]
  },
  {
   "cell_type": "code",
   "execution_count": 33,
   "metadata": {},
   "outputs": [],
   "source": [
    "gasUsed1=0\n",
    "gasUsed2=0\n",
    "gasUsed3=0\n",
    "gasUsed4=0\n",
    "gasUsed5=0\n",
    "gasUsed6=0\n",
    "gasUsed7=0"
   ]
  },
  {
   "cell_type": "code",
   "execution_count": 34,
   "metadata": {},
   "outputs": [],
   "source": [
    "for i in range(0,95):\n",
    "    if tx1_hashes[i]!=None:\n",
    "        receipt1 = web3.eth.waitForTransactionReceipt(tx1_hashes[i])\n",
    "        gasUsed1 += receipt1.gasUsed\n",
    "    \n",
    "    if tx2_hashes[i]!=None:    \n",
    "        receipt2 = web3.eth.waitForTransactionReceipt(tx2_hashes[i])\n",
    "        gasUsed2 += receipt2.gasUsed\n",
    "        \n",
    "    if tx3_hashes[i]!=None:  \n",
    "        receipt3 = web3.eth.waitForTransactionReceipt(tx3_hashes[i])\n",
    "        gasUsed3 += receipt3.gasUsed\n",
    "        \n",
    "    if tx4_hashes[i]!=None:\n",
    "        receipt4 = web3.eth.waitForTransactionReceipt(tx4_hashes[i])\n",
    "        gasUsed4 += receipt4.gasUsed\n",
    "        \n",
    "    if tx5_hashes[i]!=None:\n",
    "        receipt5 = web3.eth.waitForTransactionReceipt(tx5_hashes[i])\n",
    "        gasUsed5 += receipt5.gasUsed\n",
    "        \n",
    "    if tx6_hashes[i]!=None:\n",
    "        receipt6 = web3.eth.waitForTransactionReceipt(tx6_hashes[i])\n",
    "        gasUsed6 += receipt6.gasUsed\n",
    "        \n",
    "    if tx7_hashes[i]!=None:\n",
    "        receipt7 = web3.eth.waitForTransactionReceipt(tx7_hashes[i])\n",
    "        gasUsed7 += receipt7.gasUsed\n",
    "        \n",
    "gasUsed=gasUsed1+gasUsed2+gasUsed3+gasUsed4+gasUsed5+gasUsed6+gasUsed7"
   ]
  },
  {
   "cell_type": "code",
   "execution_count": 35,
   "metadata": {},
   "outputs": [
    {
     "data": {
      "text/plain": [
       "5211558"
      ]
     },
     "execution_count": 35,
     "metadata": {},
     "output_type": "execute_result"
    }
   ],
   "source": [
    "gasUsed"
   ]
  },
  {
   "cell_type": "code",
   "execution_count": null,
   "metadata": {},
   "outputs": [],
   "source": []
  }
 ],
 "metadata": {
  "kernelspec": {
   "display_name": "Python 3",
   "language": "python",
   "name": "python3"
  },
  "language_info": {
   "codemirror_mode": {
    "name": "ipython",
    "version": 3
   },
   "file_extension": ".py",
   "mimetype": "text/x-python",
   "name": "python",
   "nbconvert_exporter": "python",
   "pygments_lexer": "ipython3",
   "version": "3.7.1"
  }
 },
 "nbformat": 4,
 "nbformat_minor": 2
}
