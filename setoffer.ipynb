{
 "cells": [
  {
   "cell_type": "code",
   "execution_count": 2,
   "metadata": {},
   "outputs": [],
   "source": [
    "import web3\n",
    "import json\n",
    "import array\n",
    "import math\n",
    "import random\n",
    "import time\n",
    "import csv\n",
    "import numpy as np\n",
    "\n",
    "from web3 import Web3, IPCProvider, HTTPProvider"
   ]
  },
  {
   "cell_type": "code",
   "execution_count": 101,
   "metadata": {},
   "outputs": [
    {
     "name": "stdout",
     "output_type": "stream",
     "text": [
      "<web3.main.Web3 object at 0x0000000007977320>\n"
     ]
    }
   ],
   "source": [
    "web3 = Web3(HTTPProvider(\"HTTP://127.0.0.1:7545\", request_kwargs = {'timeout':600}))\n",
    "print(web3)"
   ]
  },
  {
   "cell_type": "code",
   "execution_count": 3,
   "metadata": {},
   "outputs": [
    {
     "data": {
      "text/plain": [
       "['0xC56fC154A17f382B258Ca73Cd976A4c87593457C',\n",
       " '0x068D68C9e07289B4b750f0fFad4214bF52579F73',\n",
       " '0x20cb29F38c76166ECa7Cab4e25B2845c4a9502D7',\n",
       " '0x9e890CB220237fF0d8687C342d8B62115489FEaA',\n",
       " '0xf4ad0182f7B9E1bdd6E43faCd0f8A9e2Fe53E50B',\n",
       " '0x91B98A2a9F8dB7e831422510Af9eEcC8544Bf97E',\n",
       " '0x244748d929DD43366d3601BAFAD984329FE7aEc5',\n",
       " '0xb6e182138632067599d008c0e7f1ac2E5168430c',\n",
       " '0x15b09B2A5Df2E648a16a126107A0553e550da0ca',\n",
       " '0x219d5B205B85d89d085595f8c3d6cf687C3E72e7']"
      ]
     },
     "execution_count": 3,
     "metadata": {},
     "output_type": "execute_result"
    }
   ],
   "source": [
    "web3.eth.accounts"
   ]
  },
  {
   "cell_type": "code",
   "execution_count": 4,
   "metadata": {},
   "outputs": [
    {
     "data": {
      "text/plain": [
       "100000000000000000000"
      ]
     },
     "execution_count": 4,
     "metadata": {},
     "output_type": "execute_result"
    }
   ],
   "source": [
    "web3.eth.getBalance(web3.eth.accounts[0])"
   ]
  },
  {
   "cell_type": "code",
   "execution_count": 35,
   "metadata": {},
   "outputs": [
    {
     "data": {
      "text/plain": [
       "True"
      ]
     },
     "execution_count": 35,
     "metadata": {},
     "output_type": "execute_result"
    }
   ],
   "source": [
    "web3.personal.unlockAccount(web3.eth.accounts[0],'gogogo')"
   ]
  },
  {
   "cell_type": "code",
   "execution_count": 6,
   "metadata": {},
   "outputs": [
    {
     "data": {
      "text/plain": [
       "'0xC56fC154A17f382B258Ca73Cd976A4c87593457C'"
      ]
     },
     "execution_count": 6,
     "metadata": {},
     "output_type": "execute_result"
    }
   ],
   "source": [
    "coinbase = web3.eth.coinbase\n",
    "coinbase"
   ]
  },
  {
   "cell_type": "code",
   "execution_count": 100,
   "metadata": {},
   "outputs": [
    {
     "data": {
      "text/plain": [
       "<web3.utils.datatypes.Contract at 0x78b50f0>"
      ]
     },
     "execution_count": 100,
     "metadata": {},
     "output_type": "execute_result"
    }
   ],
   "source": [
    "contract_address = web3.toChecksumAddress(0xb9f1cb717ebcb5e3200254231ea768ad65151788)\n",
    "abi_str = '[{\"constant\":false,\"inputs\":[{\"name\":\"_timepoint\",\"type\":\"uint8\"},{\"name\":\"_schedulePower\",\"type\":\"uint16\"},{\"name\":\"_NegPower\",\"type\":\"uint16\"},{\"name\":\"_PosPower\",\"type\":\"uint16\"},{\"name\":\"_NegEnergy\",\"type\":\"uint16\"},{\"name\":\"_Posenergy\",\"type\":\"uint16\"},{\"name\":\"_Negprice\",\"type\":\"uint16\"},{\"name\":\"_PosPrice\",\"type\":\"uint16\"}],\"name\":\"Setflexoffer\",\"outputs\":[],\"payable\":false,\"stateMutability\":\"nonpayable\",\"type\":\"function\"}]'\n",
    "contract_abi = json.loads(abi_str)\n",
    "contract = web3.eth.contract(abi=contract_abi, address=contract_address)\n",
    "contract"
   ]
  },
  {
   "cell_type": "code",
   "execution_count": 8,
   "metadata": {},
   "outputs": [],
   "source": [
    "def csv_import(filename):\n",
    "\n",
    "    columns = []\n",
    "    with open(filename, 'rU') as f:\n",
    "        reader = csv.reader(f, delimiter=';')\n",
    "        for row in reader:\n",
    "            if columns:\n",
    "                for i, value in enumerate(row):\n",
    "                    columns[i].append(value)\n",
    "            else:\n",
    "                # first row\n",
    "                columns = [[value] for value in row]\n",
    "    # you now have a column-major 2D array of your file.\n",
    "    as_dict = {c[0]: c[1:] for c in columns}\n",
    "    return as_dict"
   ]
  },
  {
   "cell_type": "code",
   "execution_count": 102,
   "metadata": {},
   "outputs": [
    {
     "name": "stderr",
     "output_type": "stream",
     "text": [
      "E:\\it\\envs\\py3\\lib\\site-packages\\ipykernel_launcher.py:4: DeprecationWarning: 'U' mode is deprecated\n",
      "  after removing the cwd from sys.path.\n"
     ]
    }
   ],
   "source": [
    "data = csv_import('Flexoffer.csv')\n",
    "data"
   ]
  },
  {
   "cell_type": "code",
   "execution_count": 103,
   "metadata": {},
   "outputs": [
    {
     "data": {
      "text/plain": [
       "20000"
      ]
     },
     "execution_count": 103,
     "metadata": {},
     "output_type": "execute_result"
    }
   ],
   "source": [
    "int(data['Leistung_Plan'][21])\n"
   ]
  },
  {
   "cell_type": "code",
   "execution_count": 107,
   "metadata": {},
   "outputs": [],
   "source": [
    "tx_hashes = [None]*96"
   ]
  },
  {
   "cell_type": "code",
   "execution_count": 108,
   "metadata": {},
   "outputs": [
    {
     "data": {
      "text/plain": [
       "HexBytes('0xd849c438a48d7366f33ef87f92a534c3297b81ddc5ccc965c54a5f867bb40a06')"
      ]
     },
     "execution_count": 108,
     "metadata": {},
     "output_type": "execute_result"
    }
   ],
   "source": [
    "contract.transact({'from':web3.eth.accounts[0]}).Setflexoffer(5,\n",
    "                                                       int(data['Leistung_Plan'][5]),\n",
    "                                                       int(data['Leistung-'][5]),\n",
    "                                                       int(data['Leistung+'][5]),\n",
    "                                                       int(data['Energie-'][5]),\n",
    "                                                       int(data['Energie+'][5]),\n",
    "                                                       int(data['Preis-'][5]),\n",
    "                                                       int(data['Preis+'][5]))"
   ]
  },
  {
   "cell_type": "code",
   "execution_count": 109,
   "metadata": {},
   "outputs": [],
   "source": [
    "for i in range(0,95):\n",
    "    #web3.personal.unlockAccount(web3.eth.accounts[0],'gogogo')\n",
    "    tx_hash = contract.transact({'from':web3.eth.accounts[0]}).Setflexoffer(i,\n",
    "                                                                       int(data['Leistung_Plan'][i]),\n",
    "                                                                       int(data['Leistung-'][i]),\n",
    "                                                                       int(data['Leistung+'][i]),\n",
    "                                                                       int(data['Energie-'][i]),\n",
    "                                                                       int(data['Energie+'][i]),\n",
    "                                                                       int(data['Preis-'][i]),\n",
    "                                                                       int(data['Preis+'][i]))\n",
    "    tx_hashes[i] = tx_hash.hex()"
   ]
  },
  {
   "cell_type": "code",
   "execution_count": 97,
   "metadata": {},
   "outputs": [],
   "source": [
    "\n",
    "#print(tx_hashes)"
   ]
  },
  {
   "cell_type": "code",
   "execution_count": 87,
   "metadata": {},
   "outputs": [
    {
     "data": {
      "text/plain": [
       "AttributeDict({'transactionHash': HexBytes('0x9a8c9289900ede6b524fa84dab7354d1c217d54f16ecd8846970b2c35be46048'),\n",
       " 'transactionIndex': 0,\n",
       " 'blockHash': HexBytes('0xa6cc4fe97575f3c9af75ed5ac901456faf48be7dbae95394f9b6e38eb1989b66'),\n",
       " 'blockNumber': 306,\n",
       " 'gasUsed': 65726,\n",
       " 'cumulativeGasUsed': 65726,\n",
       " 'contractAddress': None,\n",
       " 'logs': [],\n",
       " 'status': 1,\n",
       " 'logsBloom': HexBytes('0x00000000000000000000000000000000000000000000000000000000000000000000000000000000000000000000000000000000000000000000000000000000000000000000000000000000000000000000000000000000000000000000000000000000000000000000000000000000000000000000000000000000000000000000000000000000000000000000000000000000000000000000000000000000000000000000000000000000000000000000000000000000000000000000000000000000000000000000000000000000000000000000000000000000000000000000000000000000000000000000000000000000000000000000000000000000')})"
      ]
     },
     "execution_count": 87,
     "metadata": {},
     "output_type": "execute_result"
    }
   ],
   "source": [
    "re=web3.eth.waitForTransactionReceipt(tx_hashes[6])\n",
    "re"
   ]
  },
  {
   "cell_type": "code",
   "execution_count": 88,
   "metadata": {},
   "outputs": [
    {
     "data": {
      "text/plain": [
       "65726"
      ]
     },
     "execution_count": 88,
     "metadata": {},
     "output_type": "execute_result"
    }
   ],
   "source": [
    "re.gasUsed"
   ]
  },
  {
   "cell_type": "code",
   "execution_count": 89,
   "metadata": {},
   "outputs": [],
   "source": [
    "gasUsed = 0\n",
    "for i in range(0,95):\n",
    "        receipt = web3.eth.waitForTransactionReceipt(tx_hashes[i])\n",
    "        gasUsed += receipt.gasUsed"
   ]
  },
  {
   "cell_type": "code",
   "execution_count": 90,
   "metadata": {},
   "outputs": [
    {
     "data": {
      "text/plain": [
       "6265474"
      ]
     },
     "execution_count": 90,
     "metadata": {},
     "output_type": "execute_result"
    }
   ],
   "source": [
    "gasUsed"
   ]
  },
  {
   "cell_type": "code",
   "execution_count": 93,
   "metadata": {},
   "outputs": [],
   "source": [
    "for ii in range(18,75): \n",
    "    tx_hash = contract.transact({'from':web3.eth.accounts[0]}).Setflexoffer(i,\n",
    "                                                                       int(data['Leistung_Plan'][i]),\n",
    "                                                                       int(data['Leistung-'][i]),\n",
    "                                                                       int(data['Leistung+'][i]),\n",
    "                                                                       int(data['Energie-'][i]),\n",
    "                                                                       int(data['Energie+'][i]),\n",
    "                                                                       int(data['Preis-'][i]),\n",
    "                                                                       int(data['Preis+'][i]))\n",
    "    tx_hashes[i] = tx_hash.hex()"
   ]
  },
  {
   "cell_type": "code",
   "execution_count": null,
   "metadata": {},
   "outputs": [],
   "source": [
    "for ii in range(18,75): \n",
    "    tx_hash = contract.transact({'from':web3.eth.accounts[0]}).Setflexoffer(i,\n",
    "                                                                       int(data['Leistung_Plan'][i]),\n",
    "                                                                       int(data['Leistung-'][i]),\n",
    "                                                                       int(data['Leistung+'][i]),\n",
    "                                                                       int(data['Energie-'][i]),\n",
    "                                                                       int(data['Energie+'][i]),\n",
    "                                                                       int(data['Preis-'][i]),\n",
    "                                                                       int(data['Preis+'][i]))\n",
    "    tx_hashes[i] = tx_hash.hex()"
   ]
  },
  {
   "cell_type": "code",
   "execution_count": 95,
   "metadata": {},
   "outputs": [
    {
     "data": {
      "text/plain": [
       "3767502"
      ]
     },
     "execution_count": 95,
     "metadata": {},
     "output_type": "execute_result"
    }
   ],
   "source": [
    "gasUsed1 = 0\n",
    "for i in range(18,75):\n",
    "        receipt = web3.eth.waitForTransactionReceipt(tx_hashes[i])\n",
    "        gasUsed1 += receipt.gasUsed\n",
    "\n",
    "gasUsed1"
   ]
  }
 ],
 "metadata": {
  "kernelspec": {
   "display_name": "Python 3",
   "language": "python",
   "name": "python3"
  },
  "language_info": {
   "codemirror_mode": {
    "name": "ipython",
    "version": 3
   },
   "file_extension": ".py",
   "mimetype": "text/x-python",
   "name": "python",
   "nbconvert_exporter": "python",
   "pygments_lexer": "ipython3",
   "version": "3.7.1"
  }
 },
 "nbformat": 4,
 "nbformat_minor": 2
}
